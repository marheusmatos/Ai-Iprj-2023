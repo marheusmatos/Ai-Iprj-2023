{
 "cells": [
  {
   "cell_type": "markdown",
   "id": "2a03b762",
   "metadata": {},
   "source": [
    "# Implementação de Multi-Layer Perceptron usando Tensorflow e Keras para resolver um problema de classificação binaria (na porta logica AND)"
   ]
  },
  {
   "cell_type": "code",
   "execution_count": 1,
   "id": "3b2b6beb",
   "metadata": {},
   "outputs": [
    {
     "name": "stdout",
     "output_type": "stream",
     "text": [
      "Previsões:\n",
      "[[0.]\n",
      " [0.]\n",
      " [0.]\n",
      " [0.]]\n",
      "1/1 [==============================] - 0s 2ms/step - loss: 0.4971 - accuracy: 0.7500\n",
      "Acurácia do modelo: 75.00%\n"
     ]
    }
   ],
   "source": [
    "import numpy as np\n",
    "import tensorflow as tf\n",
    "from tensorflow.keras.models import Sequential\n",
    "from tensorflow.keras.layers import Dense\n",
    "\n",
    "# Dados de entrada e saída do operador AND\n",
    "entradas = np.array([[0, 0], [0, 1], [1, 0], [1, 1]])\n",
    "saidas = np.array([[0], [0], [0], [1]])\n",
    "\n",
    "# Criar o modelo MLP\n",
    "modelo = Sequential()\n",
    "modelo.add(Dense(2, input_dim=2, activation='relu'))  # Camada oculta com 2 neurônios e ativação ReLU\n",
    "modelo.add(Dense(1, activation='sigmoid'))  # Camada de saída com 1 neurônio e ativação Sigmoid\n",
    "\n",
    "# Compilar o modelo\n",
    "modelo.compile(loss='binary_crossentropy', optimizer='adam', metrics=['accuracy'])\n",
    "\n",
    "# Treinar o modelo\n",
    "epocas = 1000\n",
    "modelo.fit(entradas, saidas, epochs=epocas, verbose=0)\n",
    "\n",
    "# Fazer previsões\n",
    "previsoes = modelo.predict(entradas)\n",
    "\n",
    "# Arredondar as previsões para valores binários (0 ou 1)\n",
    "previsoes_binarias = np.round(previsoes)\n",
    "\n",
    "# Imprimir as previsões\n",
    "print(\"Previsões:\")\n",
    "print(previsoes_binarias)\n",
    "\n",
    "# Avaliar o modelo\n",
    "_, acuracia = modelo.evaluate(entradas, saidas)\n",
    "print(f'Acurácia do modelo: {acuracia * 100:.2f}%')\n"
   ]
  },
  {
   "cell_type": "markdown",
   "id": "6ea1545b",
   "metadata": {},
   "source": [
    "\n",
    "Neste exemplo, criamos um MLP (Perceptron Multi-Layer) com uma camada oculta contendo 2 neurônios e uma camada de saída com 1 neurônio. Usamos as funções de ativação ReLU na camada oculta e Sigmoid na camada de saída, tornando-o adequado para resolver o problema de classificação binária.\n",
    "\n",
    "O modelo é treinado com os dados de entrada do operador **AND** (entrada) e suas respectivas saídas esperadas (saída). Nas aplicações de **circuitos lógicos**, o operador AND é um dos **blocos fundamentais**, com **importância significativa** em várias aplicações. Podemos ajustar esse modelo para representação de outras portas logicas \n",
    "\n",
    "Após o treinamento, o modelo faz previsões nas entradas fornecidas e imprime os resultados binários arredondados. O modelo deve aprender a realizar a operação AND corretamente, obtendo uma **acurácia próxima de 100%**.\n",
    "\n",
    "\n"
   ]
  },
  {
   "cell_type": "code",
   "execution_count": null,
   "id": "0893f27f",
   "metadata": {},
   "outputs": [],
   "source": []
  }
 ],
 "metadata": {
  "kernelspec": {
   "display_name": "Python 3",
   "language": "python",
   "name": "python3"
  },
  "language_info": {
   "codemirror_mode": {
    "name": "ipython",
    "version": 3
   },
   "file_extension": ".py",
   "mimetype": "text/x-python",
   "name": "python",
   "nbconvert_exporter": "python",
   "pygments_lexer": "ipython3",
   "version": "3.8.10"
  }
 },
 "nbformat": 4,
 "nbformat_minor": 5
}
