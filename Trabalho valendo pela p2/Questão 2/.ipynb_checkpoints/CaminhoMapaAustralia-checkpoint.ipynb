{
 "cells": [
  {
   "cell_type": "code",
   "execution_count": 11,
   "id": "8f6d5f65",
   "metadata": {},
   "outputs": [
    {
     "data": {
      "image/png": "[encoded data removed]",
      "text/plain": [
       "<Figure size 432x288 with 1 Axes>"
      ]
     },
     "metadata": {},
     "output_type": "display_data"
    },
    {
     "name": "stdout",
     "output_type": "stream",
     "text": [
      "Caminho encontrado:\n",
      "NSW -> Q -> NT\n"
     ]
    }
   ],
   "source": [
    "import networkx as nx\n",
    "import matplotlib.pyplot as plt\n",
    "\n",
    "# Criar um grafo não-direcionado vazio\n",
    "G = nx.Graph()\n",
    "\n",
    "# Adicionar nós ao grafo\n",
    "G.add_node(\"WA\")\n",
    "G.add_node(\"NT\")\n",
    "G.add_node(\"SA\")\n",
    "G.add_node(\"Q\")\n",
    "G.add_node(\"NSW\")\n",
    "G.add_node(\"V\")\n",
    "G.add_node(\"T\")\n",
    "\n",
    "# Adicionar arestas ao grafo\n",
    "G.add_edge(\"V\", \"SA\")\n",
    "G.add_edge(\"V\", \"NSW\")\n",
    "G.add_edge(\"NSW\", \"Q\")\n",
    "G.add_edge(\"NSW\", \"SA\")\n",
    "G.add_edge(\"NSW\", \"V\")\n",
    "G.add_edge(\"Q\", \"NT\")\n",
    "G.add_edge(\"Q\", \"SA\")\n",
    "G.add_edge(\"Q\", \"NSW\")\n",
    "G.add_edge(\"SA\", \"NT\")\n",
    "G.add_edge(\"SA\", \"Q\")\n",
    "G.add_edge(\"SA\", \"NSW\")\n",
    "G.add_edge(\"SA\", \"V\")\n",
    "G.add_edge(\"SA\", \"NT\")\n",
    "G.add_edge(\"SA\", \"Q\")\n",
    "G.add_edge(\"SA\", \"NSW\")\n",
    "G.add_edge(\"SA\", \"V\")\n",
    "G.add_edge(\"SA\", \"WA\")\n",
    "G.add_edge(\"NT\", \"WA\")\n",
    "G.add_edge(\"NT\", \"SA\")\n",
    "G.add_edge(\"NT\", \"Q\")\n",
    "G.add_edge(\"WA\", \"NT\")\n",
    "G.add_edge(\"WA\", \"SA\") \n",
    "\n",
    "# Exibir o grafo\n",
    "pos = nx.spring_layout(G, seed=42)  # Layout para a exibição do grafo\n",
    "nx.draw(G, pos, with_labels=True, node_size=1000, node_color='lightblue', font_size=10, font_weight='bold')\n",
    "plt.title(\"Grafo\")\n",
    "plt.show()\n",
    "\n",
    "# Encontrar o caminho mais curto de \"NSW\" para \"NT\"\n",
    "caminho = nx.shortest_path(G, source=\"NSW\", target=\"NT\")\n",
    "\n",
    "# Exibir o caminho encontrado\n",
    "print(\"Caminho encontrado:\")\n",
    "print(\" -> \".join(caminho))\n"
   ]
  },
  {
   "cell_type": "code",
   "execution_count": null,
   "id": "f1207ca7",
   "metadata": {},
   "outputs": [],
   "source": []
  }
 ],
 "metadata": {
  "kernelspec": {
   "display_name": "Python 3",
   "language": "python",
   "name": "python3"
  },
  "language_info": {
   "codemirror_mode": {
    "name": "ipython",
    "version": 3
   },
   "file_extension": ".py",
   "mimetype": "text/x-python",
   "name": "python",
   "nbconvert_exporter": "python",
   "pygments_lexer": "ipython3",
   "version": "3.8.10"
  }
 },
 "nbformat": 4,
 "nbformat_minor": 5
}
