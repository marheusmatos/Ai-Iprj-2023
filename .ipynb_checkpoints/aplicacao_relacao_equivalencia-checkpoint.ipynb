{
 "cells": [
  {
   "cell_type": "markdown",
   "id": "2e0909d8",
   "metadata": {},
   "source": [
    "#### Problema"
   ]
  },
  {
   "cell_type": "markdown",
   "id": "859613fa",
   "metadata": {},
   "source": [
    "Suponha que estamos projetando um sistema de reconhecimento de rostos para um controle de acesso baseado em biometria. Nesse sistema, é necessário identificar se um rosto pertence a uma pessoa autorizada ou não autorizada. Para fazer isso, podemos usar a técnica de reconhecimento de padrões para extrair características do rosto e compará-las com um banco de dados de rostos autorizados.\n",
    "\n",
    "No entanto, nem sempre é possível obter uma correspondência perfeita entre as características do rosto do usuário e as características armazenadas no banco de dados. Em vez disso, é comum que existam variações e imperfeições nas características, resultando em uma correspondência aproximada.\n",
    "\n",
    "Nesse caso, podemos usar uma relação de equivalência para modelar a semelhança entre os rostos. A relação de equivalência pode agrupar os rostos em classes de equivalência, onde cada classe contém rostos que são semelhantes o suficiente para serem considerados pertencentes à mesma pessoa. A relação de equivalência pode ser usada para definir uma métrica de distância entre os rostos e classificá-los em classes de equivalência com base em uma distância máxima tolerável.\n",
    "\n",
    "Nessa classe, o construtor recebe um conjunto de elementos e um conjunto de pares de equivalência. Os métodos `is_reflexive`, `is_symmetric` e `is_transitive` implementam a avaliação da reflexividade, simetria e transitividade da relação, respectivamente. O método get_equivalence_classes retorna as classes de equivalência.\n",
    "\n",
    "Para aplicar essa classe ao exemplo de reconhecimento de rostos, podemos criar uma relação de equivalência que agrupa os rostos em classes com base em uma distância máxima tolerável entre as características. Cada par de rostos cuja distância seja menor ou igual à distância máxima seria considerado equivalente."
   ]
  },
  {
   "cell_type": "code",
   "execution_count": 1,
   "id": "8a76fa03",
   "metadata": {},
   "outputs": [],
   "source": [
    "import numpy as np\n",
    "\n",
    "class EquivalenceRelation:\n",
    "    def __init__(self, elements, equivalence_pairs):\n",
    "        self.elements = elements\n",
    "        self.equivalence_pairs = equivalence_pairs\n",
    "        \n",
    "    def is_reflexive(self):\n",
    "        for element in self.elements:\n",
    "            if (element, element) not in self.equivalence_pairs:\n",
    "                return False\n",
    "        return True\n",
    "    \n",
    "    def is_symmetric(self):\n",
    "        for x, y in self.equivalence_pairs:\n",
    "            if (y, x) not in self.equivalence_pairs:\n",
    "                return False\n",
    "        return True\n",
    "    \n",
    "    def is_transitive(self):\n",
    "        for x, y in self.equivalence_pairs:\n",
    "            for z, w in self.equivalence_pairs:\n",
    "                if y == z and (x, w) not in self.equivalence_pairs:\n",
    "                    return False\n",
    "        return True\n",
    "    \n",
    "    def get_equivalence_classes(self):\n",
    "        classes = []\n",
    "        remaining_elements = set(self.elements)\n",
    "        while remaining_elements:\n",
    "            element = remaining_elements.pop()\n",
    "            class_ = {element}\n",
    "            for other_element in remaining_elements:\n",
    "                if (element, other_element) in self.equivalence_pairs:\n",
    "                    class_.add(other_element)\n",
    "            remaining_elements.difference_update(class_)\n",
    "            classes.append(class_)\n",
    "        return classes"
   ]
  },
  {
   "cell_type": "markdown",
   "id": "68081e67",
   "metadata": {},
   "source": [
    "Para implementar o exemplo apresentado anteriormente, vamos criar uma classe `FaceRecognizer` que usa a classe `EquivalenceRelation` para agrupar os rostos em classes de equivalência. A classe `FaceRecognizer` tem um método `add_face` para adicionar um novo rosto ao banco de dados, um método `recognize_face` para reconhecer um rosto e um método `get_equivalence_classes` para obter as classes de equivalência.\n",
    "\n",
    "Nessa implementação, o construtor recebe uma distância máxima tolerável entre as características dos rostos. O método `add_face` adiciona um novo rosto ao banco de dados, representado pelas suas características em um vetor numpy. O método `recognize_face` reconhece um rosto, representado pelas suas características em um vetor numpy, comparando-o com os rostos no banco de dados usando a relação de equivalência. O método retorna o índice da classe de equivalência à qual o rosto pertence ou `None` se o rosto não for reconhecido. O método `_create_equivalence_relation` cria a relação de equivalência a partir dos rostos no banco de dados."
   ]
  },
  {
   "cell_type": "code",
   "execution_count": 2,
   "id": "9b63f34f",
   "metadata": {},
   "outputs": [],
   "source": [
    "class FaceRecognizer:\n",
    "    def __init__(self, max_distance):\n",
    "        self.max_distance = max_distance\n",
    "        self.features = []\n",
    "        self.relation = None\n",
    "        \n",
    "    def add_face(self, features):\n",
    "        self.features.append(features)\n",
    "        \n",
    "    def recognize_face(self, features):\n",
    "        if self.relation is None:\n",
    "            self.relation = self._create_equivalence_relation()\n",
    "        for i, class_ in enumerate(self.relation.get_equivalence_classes()):\n",
    "            for j in class_:\n",
    "                if np.linalg.norm(self.features[j] - features) <= self.max_distance:\n",
    "                    return i\n",
    "        return None\n",
    "    \n",
    "    def _create_equivalence_relation(self):\n",
    "        elements = set(range(len(self.features)))\n",
    "        equivalence_pairs = set()\n",
    "        for i in range(len(self.features)):\n",
    "            for j in range(i+1, len(self.features)):\n",
    "                if np.linalg.norm(self.features[i] - self.features[j]) <= self.max_distance:\n",
    "                    equivalence_pairs.add((i, j))\n",
    "        return EquivalenceRelation(elements, equivalence_pairs)"
   ]
  },
  {
   "cell_type": "markdown",
   "id": "b8e43a20",
   "metadata": {},
   "source": [
    "#### Resultados"
   ]
  },
  {
   "cell_type": "markdown",
   "id": "8e14473b",
   "metadata": {},
   "source": [
    "A seguir, vamos criar um exemplo de uso da classe `FaceRecognizer`. Para isso, vamos gerar 10 rostos aleatórios representados por vetores numpy de 128 elementos e adicioná-los ao banco de dados. Em seguida, vamos criar um novo rosto a partir de um dos rostos do banco de dados com uma pequena variação nas características e tentar reconhecê-lo usando a classe `FaceRecognizer`."
   ]
  },
  {
   "cell_type": "code",
   "execution_count": 3,
   "id": "36ec17de",
   "metadata": {},
   "outputs": [
    {
     "name": "stdout",
     "output_type": "stream",
     "text": [
      "Rosto reconhecido como pertencente à classe 2\n"
     ]
    }
   ],
   "source": [
    "# Gerar rostos aleatórios\n",
    "np.random.seed(123)\n",
    "faces = [np.random.randn(128) for _ in range(10)]\n",
    "\n",
    "# Criar reconhecedor de rostos\n",
    "recognizer = FaceRecognizer(max_distance=0.01)\n",
    "\n",
    "# Adicionar rostos ao banco de dados\n",
    "for face in faces:\n",
    "    recognizer.add_face(face)\n",
    "\n",
    "# Criar novo rosto com variação\n",
    "new_face = faces[2] + 1e-12 * np.random.randn(128)\n",
    "\n",
    "# Reconhecer rosto\n",
    "class_index = recognizer.recognize_face(new_face)\n",
    "\n",
    "if class_index is not None:\n",
    "    print(f\"Rosto reconhecido como pertencente à classe {class_index}\")\n",
    "else:\n",
    "    print(\"Rosto não reconhecido\")"
   ]
  },
  {
   "cell_type": "code",
   "execution_count": null,
   "id": "3d9f34fb",
   "metadata": {},
   "outputs": [],
   "source": []
  }
 ],
 "metadata": {
  "kernelspec": {
   "display_name": "Python 3",
   "language": "python",
   "name": "python3"
  },
  "language_info": {
   "codemirror_mode": {
    "name": "ipython",
    "version": 3
   },
   "file_extension": ".py",
   "mimetype": "text/x-python",
   "name": "python",
   "nbconvert_exporter": "python",
   "pygments_lexer": "ipython3",
   "version": "3.8.10"
  }
 },
 "nbformat": 4,
 "nbformat_minor": 5
}
